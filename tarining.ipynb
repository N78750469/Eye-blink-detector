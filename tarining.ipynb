{
  "nbformat": 4,
  "nbformat_minor": 0,
  "metadata": {
    "colab": {
      "name": "Copy of Eye detector.ipynb",
      "provenance": [],
      "collapsed_sections": [
        "tEVfjZ3U1UbP",
        "gFmA_UiX1Z65"
      ]
    },
    "kernelspec": {
      "name": "python3",
      "display_name": "Python 3"
    },
    "accelerator": "GPU"
  },
  "cells": [
    {
      "cell_type": "markdown",
      "metadata": {
        "id": "yKiKKaHb1H7m"
      },
      "source": [
        "# Copy the dataset "
      ]
    },
    {
      "cell_type": "code",
      "metadata": {
        "colab": {
          "base_uri": "https://localhost:8080/"
        },
        "id": "NlEykA952mp5",
        "outputId": "e0b4f318-ccce-490a-9fce-a6878ca0cfda"
      },
      "source": [
        "from google.colab import drive\n",
        "drive.mount('/content/drive')"
      ],
      "execution_count": 1,
      "outputs": [
        {
          "output_type": "stream",
          "text": [
            "Drive already mounted at /content/drive; to attempt to forcibly remount, call drive.mount(\"/content/drive\", force_remount=True).\n"
          ],
          "name": "stdout"
        }
      ]
    },
    {
      "cell_type": "code",
      "metadata": {
        "id": "YPw6GaXrfde2"
      },
      "source": [
        "!cp /content/drive/MyDrive/dataset_B_Eye_Images.zip dataset_B_Eye_Images.zip"
      ],
      "execution_count": 2,
      "outputs": []
    },
    {
      "cell_type": "markdown",
      "metadata": {
        "id": "tEVfjZ3U1UbP"
      },
      "source": [
        "# Install GPUtil to check the gpu model"
      ]
    },
    {
      "cell_type": "code",
      "metadata": {
        "id": "n3B19NuJGMo5",
        "colab": {
          "base_uri": "https://localhost:8080/"
        },
        "outputId": "19891287-2154-4ca8-dd70-5b4a15a0852d"
      },
      "source": [
        "!pip install GPUtil"
      ],
      "execution_count": 14,
      "outputs": [
        {
          "output_type": "stream",
          "text": [
            "Requirement already satisfied: GPUtil in /usr/local/lib/python3.7/dist-packages (1.4.0)\n"
          ],
          "name": "stdout"
        }
      ]
    },
    {
      "cell_type": "code",
      "metadata": {
        "id": "0hJJ49THFIgC",
        "colab": {
          "base_uri": "https://localhost:8080/"
        },
        "outputId": "85aa6d7f-5999-4a73-8dc8-8d055aa55f10"
      },
      "source": [
        "import GPUtil\n",
        "GPUs = GPUtil.getGPUs()\n",
        "for gpu in GPUs:\n",
        "  print(gpu.name)"
      ],
      "execution_count": 15,
      "outputs": [
        {
          "output_type": "stream",
          "text": [
            "Tesla T4\n"
          ],
          "name": "stdout"
        }
      ]
    },
    {
      "cell_type": "markdown",
      "metadata": {
        "id": "J7C5x45N3fPB"
      },
      "source": [
        "# Convert the dataset"
      ]
    },
    {
      "cell_type": "markdown",
      "metadata": {
        "id": "vZ1tDN4I33JC"
      },
      "source": [
        "unzip the dataset"
      ]
    },
    {
      "cell_type": "code",
      "metadata": {
        "id": "HAQ2k0LI3dGa"
      },
      "source": [
        "!unzip dataset_B_Eye_Images.zip"
      ],
      "execution_count": null,
      "outputs": []
    },
    {
      "cell_type": "code",
      "metadata": {
        "colab": {
          "base_uri": "https://localhost:8080/"
        },
        "id": "itAum6dq7lgH",
        "outputId": "45f6646a-822b-40d5-af5d-ab01a7ca091b"
      },
      "source": [
        "import os\n",
        "from os import path\n",
        "import h5py\n",
        "from PIL import Image\n",
        "import random\n",
        "import numpy as np\n",
        "dataset_path = \"dataset_B_Eye_Images\"\n",
        "eye = []\n",
        "results = []\n",
        "for dir in os.listdir(dataset_path):\n",
        "    result = 0\n",
        "    if \"open\" in dir:\n",
        "        result = 1\n",
        "    os.path.isdir\n",
        "    path = os.path.join(dataset_path, dir)\n",
        "    for image_path in os.listdir(path):\n",
        "        if not image_path.endswith(\".jpg\"):\n",
        "            continue\n",
        "        new_path = os.path.join(path, image_path)\n",
        "        with Image.open(new_path) as img:\n",
        "            eye.append(np.asarray(img))\n",
        "            results.append(result)\n",
        "\n",
        "zipped_list = list(zip(eye, results))\n",
        "random.shuffle(zipped_list)\n",
        "eye, results = list(zip(*zipped_list))\n",
        "split = int(len(eye)*0.3)\n",
        "\n",
        "X_test = eye[0:split]\n",
        "Y_test = results[0:split]\n",
        "\n",
        "X_train = eye[split:]\n",
        "Y_train = results[split:]\n",
        "\n",
        "with h5py.File('dataset.h5') as file:\n",
        "    file.create_dataset(\"X_train\", data=np.asarray(X_train))\n",
        "    file.create_dataset(\"Y_train\", data=np.asarray(Y_train))\n",
        "    file.create_dataset(\"X_test\", data=np.asarray(X_test))\n",
        "    file.create_dataset(\"Y_test\", data=np.asarray(Y_test))\n",
        "\n"
      ],
      "execution_count": 5,
      "outputs": [
        {
          "output_type": "stream",
          "text": [
            "/usr/local/lib/python3.7/dist-packages/ipykernel_launcher.py:35: H5pyDeprecationWarning: The default file mode will change to 'r' (read-only) in h5py 3.0. To suppress this warning, pass the mode you need to h5py.File(), or set the global default h5.get_config().default_file_mode, or set the environment variable H5PY_DEFAULT_READONLY=1. Available modes are: 'r', 'r+', 'w', 'w-'/'x', 'a'. See the docs for details.\n"
          ],
          "name": "stderr"
        }
      ]
    },
    {
      "cell_type": "markdown",
      "metadata": {
        "id": "gFmA_UiX1Z65"
      },
      "source": [
        "# Load the dataset"
      ]
    },
    {
      "cell_type": "code",
      "metadata": {
        "id": "KXOUvb50e_Jd",
        "colab": {
          "base_uri": "https://localhost:8080/"
        },
        "outputId": "4620e841-2fbd-4d39-caea-40e7558346c8"
      },
      "source": [
        "import h5py\n",
        "import numpy as np\n",
        "\n",
        "dataset = h5py.File(\"dataset.h5\")\n",
        "X_train = dataset[\"X_train\"]\n",
        "Y_train = dataset[\"Y_train\"]\n",
        "X_test = dataset[\"X_test\"]\n",
        "Y_test = dataset[\"Y_test\"]\n",
        "X_train = np.reshape(X_train, (-1,24,24,1))/255\n",
        "X_test = np.reshape(X_test, (-1,24,24,1))/255\n",
        "Y_train = np.asarray(Y_train).reshape((-1, 1))\n",
        "print(Y_train.shape)\n",
        "Y_test = np.asarray(Y_test).reshape((-1, 1))"
      ],
      "execution_count": 6,
      "outputs": [
        {
          "output_type": "stream",
          "text": [
            "(3393, 1)\n"
          ],
          "name": "stdout"
        },
        {
          "output_type": "stream",
          "text": [
            "/usr/local/lib/python3.7/dist-packages/ipykernel_launcher.py:4: H5pyDeprecationWarning: The default file mode will change to 'r' (read-only) in h5py 3.0. To suppress this warning, pass the mode you need to h5py.File(), or set the global default h5.get_config().default_file_mode, or set the environment variable H5PY_DEFAULT_READONLY=1. Available modes are: 'r', 'r+', 'w', 'w-'/'x', 'a'. See the docs for details.\n",
            "  after removing the cwd from sys.path.\n"
          ],
          "name": "stderr"
        }
      ]
    },
    {
      "cell_type": "markdown",
      "metadata": {
        "id": "S1jMPBRn1fAG"
      },
      "source": [
        "# Create the model"
      ]
    },
    {
      "cell_type": "code",
      "metadata": {
        "id": "E__x4zTyL5FK",
        "colab": {
          "base_uri": "https://localhost:8080/"
        },
        "outputId": "6ccb6930-4a21-4c7c-e929-83e44376893b"
      },
      "source": [
        "import keras\n",
        "from keras import Sequential\n",
        "from keras import layers\n",
        "from keras import optimizers\n",
        "from keras import regularizers\n",
        "from keras import losses\n",
        "\n",
        "shape=(24, 24, 1)\n",
        "model = Sequential()\n",
        "model.add(layers.Conv2D(64, (3, 3), input_shape=shape))\n",
        "model.add(layers.BatchNormalization())\n",
        "model.add(layers.ReLU(6))\n",
        "\n",
        "model.add(layers.Conv2D(64, (3, 3)))\n",
        "model.add(layers.BatchNormalization())\n",
        "model.add(layers.ReLU(6))\n",
        "\n",
        "model.add(layers.Conv2D(64, (3, 3)))\n",
        "model.add(layers.BatchNormalization())\n",
        "model.add(layers.ReLU(6))\n",
        "\n",
        "model.add(layers.GlobalAvgPool2D())\n",
        "model.add(layers.Dense(1, activation=\"sigmoid\"))\n",
        "\n",
        "op = optimizers.Adamax(1e-4)\n",
        "\n",
        "model.compile(metrics=[\"accuracy\"], loss=\"binary_crossentropy\", optimizer=op)\n",
        "model.summary()"
      ],
      "execution_count": 7,
      "outputs": [
        {
          "output_type": "stream",
          "text": [
            "Model: \"sequential\"\n",
            "_________________________________________________________________\n",
            "Layer (type)                 Output Shape              Param #   \n",
            "=================================================================\n",
            "conv2d (Conv2D)              (None, 22, 22, 64)        640       \n",
            "_________________________________________________________________\n",
            "batch_normalization (BatchNo (None, 22, 22, 64)        256       \n",
            "_________________________________________________________________\n",
            "re_lu (ReLU)                 (None, 22, 22, 64)        0         \n",
            "_________________________________________________________________\n",
            "conv2d_1 (Conv2D)            (None, 20, 20, 64)        36928     \n",
            "_________________________________________________________________\n",
            "batch_normalization_1 (Batch (None, 20, 20, 64)        256       \n",
            "_________________________________________________________________\n",
            "re_lu_1 (ReLU)               (None, 20, 20, 64)        0         \n",
            "_________________________________________________________________\n",
            "conv2d_2 (Conv2D)            (None, 18, 18, 64)        36928     \n",
            "_________________________________________________________________\n",
            "batch_normalization_2 (Batch (None, 18, 18, 64)        256       \n",
            "_________________________________________________________________\n",
            "re_lu_2 (ReLU)               (None, 18, 18, 64)        0         \n",
            "_________________________________________________________________\n",
            "global_average_pooling2d (Gl (None, 64)                0         \n",
            "_________________________________________________________________\n",
            "dense (Dense)                (None, 1)                 65        \n",
            "=================================================================\n",
            "Total params: 75,329\n",
            "Trainable params: 74,945\n",
            "Non-trainable params: 384\n",
            "_________________________________________________________________\n"
          ],
          "name": "stdout"
        }
      ]
    },
    {
      "cell_type": "markdown",
      "metadata": {
        "id": "0qbnSayp1jWd"
      },
      "source": [
        "# Training and evaluate the model"
      ]
    },
    {
      "cell_type": "code",
      "metadata": {
        "id": "nnX0f6qjgR2p",
        "colab": {
          "base_uri": "https://localhost:8080/"
        },
        "outputId": "94cd987a-03f4-4f91-d771-990d332cfa7d"
      },
      "source": [
        "history = model.fit(X_train, Y_train, batch_size=16, epochs=100, validation_split=0.3)"
      ],
      "execution_count": 8,
      "outputs": [
        {
          "output_type": "stream",
          "text": [
            "Epoch 1/100\n",
            "149/149 [==============================] - 34s 9ms/step - loss: 0.6187 - accuracy: 0.6568 - val_loss: 0.7569 - val_accuracy: 0.5000\n",
            "Epoch 2/100\n",
            "149/149 [==============================] - 1s 5ms/step - loss: 0.5539 - accuracy: 0.7345 - val_loss: 0.9187 - val_accuracy: 0.5000\n",
            "Epoch 3/100\n",
            "149/149 [==============================] - 1s 5ms/step - loss: 0.5335 - accuracy: 0.7539 - val_loss: 0.7546 - val_accuracy: 0.5039\n",
            "Epoch 4/100\n",
            "149/149 [==============================] - 1s 5ms/step - loss: 0.5002 - accuracy: 0.7795 - val_loss: 0.5753 - val_accuracy: 0.7122\n",
            "Epoch 5/100\n",
            "149/149 [==============================] - 1s 5ms/step - loss: 0.4993 - accuracy: 0.7859 - val_loss: 0.4841 - val_accuracy: 0.8301\n",
            "Epoch 6/100\n",
            "149/149 [==============================] - 1s 5ms/step - loss: 0.4833 - accuracy: 0.7998 - val_loss: 0.4400 - val_accuracy: 0.8605\n",
            "Epoch 7/100\n",
            "149/149 [==============================] - 1s 5ms/step - loss: 0.4446 - accuracy: 0.8211 - val_loss: 0.4154 - val_accuracy: 0.8576\n",
            "Epoch 8/100\n",
            "149/149 [==============================] - 1s 5ms/step - loss: 0.4332 - accuracy: 0.8373 - val_loss: 0.4024 - val_accuracy: 0.8674\n",
            "Epoch 9/100\n",
            "149/149 [==============================] - 1s 5ms/step - loss: 0.4280 - accuracy: 0.8357 - val_loss: 0.3842 - val_accuracy: 0.8802\n",
            "Epoch 10/100\n",
            "149/149 [==============================] - 1s 5ms/step - loss: 0.3962 - accuracy: 0.8499 - val_loss: 0.3891 - val_accuracy: 0.8654\n",
            "Epoch 11/100\n",
            "149/149 [==============================] - 1s 5ms/step - loss: 0.4068 - accuracy: 0.8402 - val_loss: 0.3604 - val_accuracy: 0.8861\n",
            "Epoch 12/100\n",
            "149/149 [==============================] - 1s 5ms/step - loss: 0.3876 - accuracy: 0.8573 - val_loss: 0.3475 - val_accuracy: 0.8792\n",
            "Epoch 13/100\n",
            "149/149 [==============================] - 1s 5ms/step - loss: 0.3760 - accuracy: 0.8594 - val_loss: 0.3335 - val_accuracy: 0.8900\n",
            "Epoch 14/100\n",
            "149/149 [==============================] - 1s 5ms/step - loss: 0.3786 - accuracy: 0.8587 - val_loss: 0.3290 - val_accuracy: 0.8890\n",
            "Epoch 15/100\n",
            "149/149 [==============================] - 1s 5ms/step - loss: 0.3439 - accuracy: 0.8843 - val_loss: 0.3203 - val_accuracy: 0.8919\n",
            "Epoch 16/100\n",
            "149/149 [==============================] - 1s 5ms/step - loss: 0.3548 - accuracy: 0.8663 - val_loss: 0.3144 - val_accuracy: 0.8821\n",
            "Epoch 17/100\n",
            "149/149 [==============================] - 1s 5ms/step - loss: 0.3255 - accuracy: 0.8901 - val_loss: 0.3058 - val_accuracy: 0.9077\n",
            "Epoch 18/100\n",
            "149/149 [==============================] - 1s 5ms/step - loss: 0.3302 - accuracy: 0.8866 - val_loss: 0.2947 - val_accuracy: 0.9067\n",
            "Epoch 19/100\n",
            "149/149 [==============================] - 1s 5ms/step - loss: 0.3150 - accuracy: 0.8936 - val_loss: 0.3004 - val_accuracy: 0.8978\n",
            "Epoch 20/100\n",
            "149/149 [==============================] - 1s 5ms/step - loss: 0.3102 - accuracy: 0.8935 - val_loss: 0.2795 - val_accuracy: 0.9086\n",
            "Epoch 21/100\n",
            "149/149 [==============================] - 1s 5ms/step - loss: 0.2948 - accuracy: 0.8997 - val_loss: 0.2767 - val_accuracy: 0.9106\n",
            "Epoch 22/100\n",
            "149/149 [==============================] - 1s 5ms/step - loss: 0.3011 - accuracy: 0.9052 - val_loss: 0.2957 - val_accuracy: 0.8900\n",
            "Epoch 23/100\n",
            "149/149 [==============================] - 1s 5ms/step - loss: 0.2850 - accuracy: 0.9021 - val_loss: 0.2701 - val_accuracy: 0.8969\n",
            "Epoch 24/100\n",
            "149/149 [==============================] - 1s 5ms/step - loss: 0.2959 - accuracy: 0.8996 - val_loss: 0.2721 - val_accuracy: 0.9106\n",
            "Epoch 25/100\n",
            "149/149 [==============================] - 1s 5ms/step - loss: 0.2708 - accuracy: 0.9095 - val_loss: 0.2558 - val_accuracy: 0.9224\n",
            "Epoch 26/100\n",
            "149/149 [==============================] - 1s 5ms/step - loss: 0.2859 - accuracy: 0.9050 - val_loss: 0.2531 - val_accuracy: 0.9293\n",
            "Epoch 27/100\n",
            "149/149 [==============================] - 1s 5ms/step - loss: 0.2864 - accuracy: 0.8949 - val_loss: 0.2536 - val_accuracy: 0.9263\n",
            "Epoch 28/100\n",
            "149/149 [==============================] - 1s 5ms/step - loss: 0.2623 - accuracy: 0.9198 - val_loss: 0.2509 - val_accuracy: 0.9214\n",
            "Epoch 29/100\n",
            "149/149 [==============================] - 1s 5ms/step - loss: 0.2730 - accuracy: 0.9007 - val_loss: 0.2399 - val_accuracy: 0.9214\n",
            "Epoch 30/100\n",
            "149/149 [==============================] - 1s 5ms/step - loss: 0.2686 - accuracy: 0.9105 - val_loss: 0.2952 - val_accuracy: 0.8890\n",
            "Epoch 31/100\n",
            "149/149 [==============================] - 1s 5ms/step - loss: 0.2656 - accuracy: 0.9072 - val_loss: 0.2457 - val_accuracy: 0.9145\n",
            "Epoch 32/100\n",
            "149/149 [==============================] - 1s 5ms/step - loss: 0.2494 - accuracy: 0.9164 - val_loss: 0.2312 - val_accuracy: 0.9322\n",
            "Epoch 33/100\n",
            "149/149 [==============================] - 1s 5ms/step - loss: 0.2567 - accuracy: 0.9101 - val_loss: 0.2312 - val_accuracy: 0.9303\n",
            "Epoch 34/100\n",
            "149/149 [==============================] - 1s 5ms/step - loss: 0.2554 - accuracy: 0.9097 - val_loss: 0.2433 - val_accuracy: 0.9116\n",
            "Epoch 35/100\n",
            "149/149 [==============================] - 1s 5ms/step - loss: 0.2626 - accuracy: 0.9066 - val_loss: 0.2479 - val_accuracy: 0.9067\n",
            "Epoch 36/100\n",
            "149/149 [==============================] - 1s 5ms/step - loss: 0.2432 - accuracy: 0.9206 - val_loss: 0.2198 - val_accuracy: 0.9253\n",
            "Epoch 37/100\n",
            "149/149 [==============================] - 1s 5ms/step - loss: 0.2316 - accuracy: 0.9228 - val_loss: 0.2800 - val_accuracy: 0.8851\n",
            "Epoch 38/100\n",
            "149/149 [==============================] - 1s 5ms/step - loss: 0.2596 - accuracy: 0.9020 - val_loss: 0.2321 - val_accuracy: 0.9136\n",
            "Epoch 39/100\n",
            "149/149 [==============================] - 1s 5ms/step - loss: 0.2461 - accuracy: 0.9038 - val_loss: 0.2277 - val_accuracy: 0.9312\n",
            "Epoch 40/100\n",
            "149/149 [==============================] - 1s 5ms/step - loss: 0.2418 - accuracy: 0.9202 - val_loss: 0.2151 - val_accuracy: 0.9381\n",
            "Epoch 41/100\n",
            "149/149 [==============================] - 1s 5ms/step - loss: 0.2260 - accuracy: 0.9160 - val_loss: 0.2112 - val_accuracy: 0.9303\n",
            "Epoch 42/100\n",
            "149/149 [==============================] - 1s 5ms/step - loss: 0.2274 - accuracy: 0.9199 - val_loss: 0.2049 - val_accuracy: 0.9381\n",
            "Epoch 43/100\n",
            "149/149 [==============================] - 1s 5ms/step - loss: 0.2284 - accuracy: 0.9262 - val_loss: 0.2010 - val_accuracy: 0.9411\n",
            "Epoch 44/100\n",
            "149/149 [==============================] - 1s 5ms/step - loss: 0.2267 - accuracy: 0.9232 - val_loss: 0.2720 - val_accuracy: 0.8880\n",
            "Epoch 45/100\n",
            "149/149 [==============================] - 1s 5ms/step - loss: 0.2322 - accuracy: 0.9135 - val_loss: 0.2029 - val_accuracy: 0.9322\n",
            "Epoch 46/100\n",
            "149/149 [==============================] - 1s 5ms/step - loss: 0.2126 - accuracy: 0.9317 - val_loss: 0.1936 - val_accuracy: 0.9430\n",
            "Epoch 47/100\n",
            "149/149 [==============================] - 1s 5ms/step - loss: 0.2312 - accuracy: 0.9299 - val_loss: 0.3016 - val_accuracy: 0.8743\n",
            "Epoch 48/100\n",
            "149/149 [==============================] - 1s 5ms/step - loss: 0.2175 - accuracy: 0.9243 - val_loss: 0.1948 - val_accuracy: 0.9361\n",
            "Epoch 49/100\n",
            "149/149 [==============================] - 1s 5ms/step - loss: 0.2194 - accuracy: 0.9228 - val_loss: 0.2071 - val_accuracy: 0.9293\n",
            "Epoch 50/100\n",
            "149/149 [==============================] - 1s 5ms/step - loss: 0.2154 - accuracy: 0.9252 - val_loss: 0.1924 - val_accuracy: 0.9430\n",
            "Epoch 51/100\n",
            "149/149 [==============================] - 1s 5ms/step - loss: 0.1929 - accuracy: 0.9376 - val_loss: 0.2067 - val_accuracy: 0.9342\n",
            "Epoch 52/100\n",
            "149/149 [==============================] - 1s 5ms/step - loss: 0.2058 - accuracy: 0.9336 - val_loss: 0.2161 - val_accuracy: 0.9224\n",
            "Epoch 53/100\n",
            "149/149 [==============================] - 1s 5ms/step - loss: 0.2142 - accuracy: 0.9329 - val_loss: 0.2064 - val_accuracy: 0.9263\n",
            "Epoch 54/100\n",
            "149/149 [==============================] - 1s 5ms/step - loss: 0.2290 - accuracy: 0.9171 - val_loss: 0.1939 - val_accuracy: 0.9352\n",
            "Epoch 55/100\n",
            "149/149 [==============================] - 1s 5ms/step - loss: 0.2022 - accuracy: 0.9316 - val_loss: 0.2001 - val_accuracy: 0.9253\n",
            "Epoch 56/100\n",
            "149/149 [==============================] - 1s 5ms/step - loss: 0.2047 - accuracy: 0.9296 - val_loss: 0.1993 - val_accuracy: 0.9263\n",
            "Epoch 57/100\n",
            "149/149 [==============================] - 1s 5ms/step - loss: 0.2160 - accuracy: 0.9269 - val_loss: 0.2002 - val_accuracy: 0.9263\n",
            "Epoch 58/100\n",
            "149/149 [==============================] - 1s 5ms/step - loss: 0.2191 - accuracy: 0.9240 - val_loss: 0.1722 - val_accuracy: 0.9519\n",
            "Epoch 59/100\n",
            "149/149 [==============================] - 1s 5ms/step - loss: 0.1867 - accuracy: 0.9372 - val_loss: 0.1754 - val_accuracy: 0.9440\n",
            "Epoch 60/100\n",
            "149/149 [==============================] - 1s 5ms/step - loss: 0.1981 - accuracy: 0.9354 - val_loss: 0.1756 - val_accuracy: 0.9430\n",
            "Epoch 61/100\n",
            "149/149 [==============================] - 1s 5ms/step - loss: 0.2254 - accuracy: 0.9177 - val_loss: 0.1708 - val_accuracy: 0.9420\n",
            "Epoch 62/100\n",
            "149/149 [==============================] - 1s 5ms/step - loss: 0.1937 - accuracy: 0.9386 - val_loss: 0.1712 - val_accuracy: 0.9489\n",
            "Epoch 63/100\n",
            "149/149 [==============================] - 1s 5ms/step - loss: 0.2015 - accuracy: 0.9310 - val_loss: 0.1661 - val_accuracy: 0.9509\n",
            "Epoch 64/100\n",
            "149/149 [==============================] - 1s 5ms/step - loss: 0.1993 - accuracy: 0.9281 - val_loss: 0.1833 - val_accuracy: 0.9352\n",
            "Epoch 65/100\n",
            "149/149 [==============================] - 1s 5ms/step - loss: 0.1875 - accuracy: 0.9366 - val_loss: 0.1629 - val_accuracy: 0.9519\n",
            "Epoch 66/100\n",
            "149/149 [==============================] - 1s 5ms/step - loss: 0.1944 - accuracy: 0.9334 - val_loss: 0.1654 - val_accuracy: 0.9519\n",
            "Epoch 67/100\n",
            "149/149 [==============================] - 1s 5ms/step - loss: 0.1873 - accuracy: 0.9380 - val_loss: 0.1702 - val_accuracy: 0.9489\n",
            "Epoch 68/100\n",
            "149/149 [==============================] - 1s 5ms/step - loss: 0.2040 - accuracy: 0.9300 - val_loss: 0.1658 - val_accuracy: 0.9479\n",
            "Epoch 69/100\n",
            "149/149 [==============================] - 1s 5ms/step - loss: 0.1893 - accuracy: 0.9357 - val_loss: 0.1625 - val_accuracy: 0.9450\n",
            "Epoch 70/100\n",
            "149/149 [==============================] - 1s 5ms/step - loss: 0.1988 - accuracy: 0.9202 - val_loss: 0.2237 - val_accuracy: 0.9155\n",
            "Epoch 71/100\n",
            "149/149 [==============================] - 1s 5ms/step - loss: 0.1936 - accuracy: 0.9313 - val_loss: 0.1758 - val_accuracy: 0.9401\n",
            "Epoch 72/100\n",
            "149/149 [==============================] - 1s 5ms/step - loss: 0.1755 - accuracy: 0.9363 - val_loss: 0.1592 - val_accuracy: 0.9519\n",
            "Epoch 73/100\n",
            "149/149 [==============================] - 1s 5ms/step - loss: 0.1766 - accuracy: 0.9416 - val_loss: 0.1916 - val_accuracy: 0.9253\n",
            "Epoch 74/100\n",
            "149/149 [==============================] - 1s 5ms/step - loss: 0.1765 - accuracy: 0.9423 - val_loss: 0.1769 - val_accuracy: 0.9371\n",
            "Epoch 75/100\n",
            "149/149 [==============================] - 1s 5ms/step - loss: 0.1727 - accuracy: 0.9425 - val_loss: 0.1758 - val_accuracy: 0.9420\n",
            "Epoch 76/100\n",
            "149/149 [==============================] - 1s 5ms/step - loss: 0.1708 - accuracy: 0.9489 - val_loss: 0.1564 - val_accuracy: 0.9489\n",
            "Epoch 77/100\n",
            "149/149 [==============================] - 1s 5ms/step - loss: 0.1666 - accuracy: 0.9438 - val_loss: 0.1792 - val_accuracy: 0.9342\n",
            "Epoch 78/100\n",
            "149/149 [==============================] - 1s 5ms/step - loss: 0.1669 - accuracy: 0.9466 - val_loss: 0.1554 - val_accuracy: 0.9519\n",
            "Epoch 79/100\n",
            "149/149 [==============================] - 1s 5ms/step - loss: 0.1606 - accuracy: 0.9442 - val_loss: 0.1844 - val_accuracy: 0.9430\n",
            "Epoch 80/100\n",
            "149/149 [==============================] - 1s 5ms/step - loss: 0.1893 - accuracy: 0.9277 - val_loss: 0.1526 - val_accuracy: 0.9499\n",
            "Epoch 81/100\n",
            "149/149 [==============================] - 1s 5ms/step - loss: 0.1700 - accuracy: 0.9422 - val_loss: 0.1805 - val_accuracy: 0.9342\n",
            "Epoch 82/100\n",
            "149/149 [==============================] - 1s 5ms/step - loss: 0.1787 - accuracy: 0.9324 - val_loss: 0.1735 - val_accuracy: 0.9352\n",
            "Epoch 83/100\n",
            "149/149 [==============================] - 1s 5ms/step - loss: 0.1774 - accuracy: 0.9403 - val_loss: 0.1593 - val_accuracy: 0.9509\n",
            "Epoch 84/100\n",
            "149/149 [==============================] - 1s 5ms/step - loss: 0.1612 - accuracy: 0.9497 - val_loss: 0.1789 - val_accuracy: 0.9352\n",
            "Epoch 85/100\n",
            "149/149 [==============================] - 1s 5ms/step - loss: 0.1854 - accuracy: 0.9317 - val_loss: 0.1551 - val_accuracy: 0.9558\n",
            "Epoch 86/100\n",
            "149/149 [==============================] - 1s 5ms/step - loss: 0.1611 - accuracy: 0.9475 - val_loss: 0.1522 - val_accuracy: 0.9489\n",
            "Epoch 87/100\n",
            "149/149 [==============================] - 1s 5ms/step - loss: 0.1828 - accuracy: 0.9305 - val_loss: 0.1668 - val_accuracy: 0.9381\n",
            "Epoch 88/100\n",
            "149/149 [==============================] - 1s 5ms/step - loss: 0.1759 - accuracy: 0.9379 - val_loss: 0.1606 - val_accuracy: 0.9401\n",
            "Epoch 89/100\n",
            "149/149 [==============================] - 1s 5ms/step - loss: 0.1581 - accuracy: 0.9480 - val_loss: 0.1972 - val_accuracy: 0.9175\n",
            "Epoch 90/100\n",
            "149/149 [==============================] - 1s 5ms/step - loss: 0.1721 - accuracy: 0.9358 - val_loss: 0.1529 - val_accuracy: 0.9440\n",
            "Epoch 91/100\n",
            "149/149 [==============================] - 1s 5ms/step - loss: 0.1640 - accuracy: 0.9487 - val_loss: 0.1548 - val_accuracy: 0.9489\n",
            "Epoch 92/100\n",
            "149/149 [==============================] - 1s 5ms/step - loss: 0.1686 - accuracy: 0.9409 - val_loss: 0.1485 - val_accuracy: 0.9568\n",
            "Epoch 93/100\n",
            "149/149 [==============================] - 1s 5ms/step - loss: 0.1824 - accuracy: 0.9260 - val_loss: 0.1469 - val_accuracy: 0.9509\n",
            "Epoch 94/100\n",
            "149/149 [==============================] - 1s 5ms/step - loss: 0.1532 - accuracy: 0.9573 - val_loss: 0.1547 - val_accuracy: 0.9420\n",
            "Epoch 95/100\n",
            "149/149 [==============================] - 1s 5ms/step - loss: 0.1559 - accuracy: 0.9485 - val_loss: 0.1447 - val_accuracy: 0.9519\n",
            "Epoch 96/100\n",
            "149/149 [==============================] - 1s 5ms/step - loss: 0.1593 - accuracy: 0.9408 - val_loss: 0.1418 - val_accuracy: 0.9519\n",
            "Epoch 97/100\n",
            "149/149 [==============================] - 1s 5ms/step - loss: 0.1636 - accuracy: 0.9364 - val_loss: 0.1484 - val_accuracy: 0.9519\n",
            "Epoch 98/100\n",
            "149/149 [==============================] - 1s 5ms/step - loss: 0.1634 - accuracy: 0.9372 - val_loss: 0.1509 - val_accuracy: 0.9519\n",
            "Epoch 99/100\n",
            "149/149 [==============================] - 1s 5ms/step - loss: 0.1596 - accuracy: 0.9450 - val_loss: 0.1407 - val_accuracy: 0.9538\n",
            "Epoch 100/100\n",
            "149/149 [==============================] - 1s 5ms/step - loss: 0.1599 - accuracy: 0.9453 - val_loss: 0.1607 - val_accuracy: 0.9450\n"
          ],
          "name": "stdout"
        }
      ]
    },
    {
      "cell_type": "code",
      "metadata": {
        "id": "A_EZJlgrmt_6",
        "colab": {
          "base_uri": "https://localhost:8080/"
        },
        "outputId": "a85e847e-a9cb-4166-c8bd-e2f526c3a695"
      },
      "source": [
        "model.evaluate(X_test, Y_test)"
      ],
      "execution_count": 9,
      "outputs": [
        {
          "output_type": "stream",
          "text": [
            "46/46 [==============================] - 0s 4ms/step - loss: 0.1617 - accuracy: 0.9422\n"
          ],
          "name": "stdout"
        },
        {
          "output_type": "execute_result",
          "data": {
            "text/plain": [
              "[0.16167183220386505, 0.942188560962677]"
            ]
          },
          "metadata": {
            "tags": []
          },
          "execution_count": 9
        }
      ]
    },
    {
      "cell_type": "markdown",
      "metadata": {
        "id": "6jY9yMyR1rxj"
      },
      "source": [
        "Plot the model accuracy, loss, ROC"
      ]
    },
    {
      "cell_type": "code",
      "metadata": {
        "colab": {
          "base_uri": "https://localhost:8080/",
          "height": 573
        },
        "id": "ZIQjHe5414aY",
        "outputId": "6d889fe9-5ee0-49b8-868b-c782a8bb0a92"
      },
      "source": [
        "from matplotlib import pyplot as plt\n",
        "plt.plot(history.history['accuracy'])\n",
        "plt.plot(history.history['val_accuracy'])\n",
        "plt.title('model accuracy')\n",
        "plt.ylabel('accuracy')\n",
        "plt.xlabel('epoch')\n",
        "plt.legend(['train', 'val'], loc='upper left')\n",
        "plt.show()\n",
        "\n",
        "plt.plot(history.history['loss'])\n",
        "plt.plot(history.history['val_loss'])\n",
        "plt.title('model loss')\n",
        "plt.ylabel('loss')\n",
        "plt.xlabel('epoch')\n",
        "plt.legend(['train', 'val'], loc='upper left')\n",
        "plt.show()"
      ],
      "execution_count": 12,
      "outputs": [
        {
          "output_type": "display_data",
          "data": {
            "image/png": "[encoded data removed]",
            "text/plain": [
              "<Figure size 432x288 with 1 Axes>"
            ]
          },
          "metadata": {
            "tags": [],
            "needs_background": "light"
          }
        },
        {
          "output_type": "display_data",
          "data": {
            "image/png": "[encoded data removed]",
            "text/plain": [
              "<Figure size 432x288 with 1 Axes>"
            ]
          },
          "metadata": {
            "tags": [],
            "needs_background": "light"
          }
        }
      ]
    },
    {
      "cell_type": "code",
      "metadata": {
        "colab": {
          "base_uri": "https://localhost:8080/",
          "height": 295
        },
        "id": "lwlTq7532CXJ",
        "outputId": "33edf789-2d3b-47e8-e047-943ef8823625"
      },
      "source": [
        "from sklearn.metrics import roc_curve\n",
        "y_pred_keras = model.predict(X_test).ravel()\n",
        "Y_array = np.asarray(Y_test.data)\n",
        "fpr_keras, tpr_keras, thresholds_keras = roc_curve(Y_array, y_pred_keras)\n",
        "from sklearn.metrics import auc\n",
        "auc_keras = auc(fpr_keras, tpr_keras)\n",
        "plt.figure(1)\n",
        "plt.plot([0, 1], [0, 1], 'k--')\n",
        "plt.plot(fpr_keras, tpr_keras, label='Keras (area = {:.3f})'.format(auc_keras))\n",
        "\n",
        "plt.xlabel('False positive rate')\n",
        "plt.ylabel('True positive rate')\n",
        "plt.title('ROC curve')\n",
        "plt.legend(loc='best')\n",
        "plt.show()"
      ],
      "execution_count": 13,
      "outputs": [
        {
          "output_type": "display_data",
          "data": {
            "image/png": "[encoded data removed]",
            "text/plain": [
              "<Figure size 432x288 with 1 Axes>"
            ]
          },
          "metadata": {
            "tags": [],
            "needs_background": "light"
          }
        }
      ]
    }
  ]
}